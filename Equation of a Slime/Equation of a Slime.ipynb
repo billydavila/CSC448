{
 "cells": [
  {
   "cell_type": "markdown",
   "id": "4c09fae6",
   "metadata": {},
   "source": [
    "[![Open In Colab](https://colab.research.google.com/assets/colab-badge.svg)](https://colab.research.google.com/github/billydavila/CSC448/blob/main/Equation%20of%20a%20Slime/Equation%20of%20a%20Slime.ipynb)\n"
   ]
  },
  {
   "cell_type": "markdown",
   "id": "554fa480",
   "metadata": {},
   "source": [
    "# Import libraries"
   ]
  },
  {
   "cell_type": "code",
   "execution_count": 1,
   "id": "014baeb5",
   "metadata": {},
   "outputs": [],
   "source": [
    "import pandas as pd\n",
    "import numpy as np\n",
    "\n",
    "from sklearn import linear_model, model_selection, preprocessing, pipeline\n",
    "\n",
    "import matplotlib.pyplot as plt"
   ]
  },
  {
   "cell_type": "markdown",
   "id": "35229dbd",
   "metadata": {},
   "source": [
    "***\n",
    "## Part 1. Loading the dataset"
   ]
  },
  {
   "cell_type": "code",
   "execution_count": 2,
   "id": "e7b60d5c",
   "metadata": {},
   "outputs": [],
   "source": [
    "# Using pandas load the dataset (load remotely, not locally)\n",
    "try:\n",
    "    dataset = pd.read_csv(\"https://raw.githubusercontent.com/profmcnich/example_notebook/main/science_data_large.csv\")\n",
    "except:\n",
    "    dataset = pd.read_csv( \"https://raw.githubusercontent.com/billydavila/CSC448/main/Equation%20of%20a%20Slime/science_data_large.csv\")    "
   ]
  },
  {
   "cell_type": "code",
   "execution_count": 3,
   "id": "798f1ced",
   "metadata": {},
   "outputs": [
    {
     "data": {
      "text/html": [
       "<div>\n",
       "<style scoped>\n",
       "    .dataframe tbody tr th:only-of-type {\n",
       "        vertical-align: middle;\n",
       "    }\n",
       "\n",
       "    .dataframe tbody tr th {\n",
       "        vertical-align: top;\n",
       "    }\n",
       "\n",
       "    .dataframe thead th {\n",
       "        text-align: right;\n",
       "    }\n",
       "</style>\n",
       "<table border=\"1\" class=\"dataframe\">\n",
       "  <thead>\n",
       "    <tr style=\"text-align: right;\">\n",
       "      <th></th>\n",
       "      <th>Temperature °C</th>\n",
       "      <th>Mols KCL</th>\n",
       "      <th>Size nm^3</th>\n",
       "    </tr>\n",
       "  </thead>\n",
       "  <tbody>\n",
       "    <tr>\n",
       "      <th>0</th>\n",
       "      <td>469</td>\n",
       "      <td>647</td>\n",
       "      <td>6.244743e+05</td>\n",
       "    </tr>\n",
       "    <tr>\n",
       "      <th>1</th>\n",
       "      <td>403</td>\n",
       "      <td>694</td>\n",
       "      <td>5.779610e+05</td>\n",
       "    </tr>\n",
       "    <tr>\n",
       "      <th>2</th>\n",
       "      <td>302</td>\n",
       "      <td>975</td>\n",
       "      <td>6.196847e+05</td>\n",
       "    </tr>\n",
       "    <tr>\n",
       "      <th>3</th>\n",
       "      <td>779</td>\n",
       "      <td>916</td>\n",
       "      <td>1.460449e+06</td>\n",
       "    </tr>\n",
       "    <tr>\n",
       "      <th>4</th>\n",
       "      <td>901</td>\n",
       "      <td>18</td>\n",
       "      <td>4.325726e+04</td>\n",
       "    </tr>\n",
       "    <tr>\n",
       "      <th>5</th>\n",
       "      <td>545</td>\n",
       "      <td>637</td>\n",
       "      <td>7.124634e+05</td>\n",
       "    </tr>\n",
       "    <tr>\n",
       "      <th>6</th>\n",
       "      <td>660</td>\n",
       "      <td>519</td>\n",
       "      <td>7.006960e+05</td>\n",
       "    </tr>\n",
       "    <tr>\n",
       "      <th>7</th>\n",
       "      <td>143</td>\n",
       "      <td>869</td>\n",
       "      <td>2.718260e+05</td>\n",
       "    </tr>\n",
       "    <tr>\n",
       "      <th>8</th>\n",
       "      <td>89</td>\n",
       "      <td>461</td>\n",
       "      <td>8.919803e+04</td>\n",
       "    </tr>\n",
       "    <tr>\n",
       "      <th>9</th>\n",
       "      <td>294</td>\n",
       "      <td>776</td>\n",
       "      <td>4.770210e+05</td>\n",
       "    </tr>\n",
       "    <tr>\n",
       "      <th>10</th>\n",
       "      <td>991</td>\n",
       "      <td>117</td>\n",
       "      <td>2.441771e+05</td>\n",
       "    </tr>\n",
       "    <tr>\n",
       "      <th>11</th>\n",
       "      <td>307</td>\n",
       "      <td>781</td>\n",
       "      <td>5.006455e+05</td>\n",
       "    </tr>\n",
       "    <tr>\n",
       "      <th>12</th>\n",
       "      <td>206</td>\n",
       "      <td>70</td>\n",
       "      <td>3.145200e+04</td>\n",
       "    </tr>\n",
       "    <tr>\n",
       "      <th>13</th>\n",
       "      <td>437</td>\n",
       "      <td>599</td>\n",
       "      <td>5.390215e+05</td>\n",
       "    </tr>\n",
       "    <tr>\n",
       "      <th>14</th>\n",
       "      <td>566</td>\n",
       "      <td>75</td>\n",
       "      <td>9.185271e+04</td>\n",
       "    </tr>\n",
       "  </tbody>\n",
       "</table>\n",
       "</div>"
      ],
      "text/plain": [
       "    Temperature °C  Mols KCL     Size nm^3\n",
       "0              469       647  6.244743e+05\n",
       "1              403       694  5.779610e+05\n",
       "2              302       975  6.196847e+05\n",
       "3              779       916  1.460449e+06\n",
       "4              901        18  4.325726e+04\n",
       "5              545       637  7.124634e+05\n",
       "6              660       519  7.006960e+05\n",
       "7              143       869  2.718260e+05\n",
       "8               89       461  8.919803e+04\n",
       "9              294       776  4.770210e+05\n",
       "10             991       117  2.441771e+05\n",
       "11             307       781  5.006455e+05\n",
       "12             206        70  3.145200e+04\n",
       "13             437       599  5.390215e+05\n",
       "14             566        75  9.185271e+04"
      ]
     },
     "execution_count": 3,
     "metadata": {},
     "output_type": "execute_result"
    }
   ],
   "source": [
    "# Output the first 15 rows of the data\n",
    "dataset.head(15)"
   ]
  },
  {
   "cell_type": "code",
   "execution_count": 4,
   "id": "5674d4cf",
   "metadata": {},
   "outputs": [
    {
     "name": "stdout",
     "output_type": "stream",
     "text": [
      "<class 'pandas.core.frame.DataFrame'>\n",
      "RangeIndex: 1000 entries, 0 to 999\n",
      "Data columns (total 3 columns):\n",
      " #   Column          Non-Null Count  Dtype  \n",
      "---  ------          --------------  -----  \n",
      " 0   Temperature °C  1000 non-null   int64  \n",
      " 1   Mols KCL        1000 non-null   int64  \n",
      " 2   Size nm^3       1000 non-null   float64\n",
      "dtypes: float64(1), int64(2)\n",
      "memory usage: 23.6 KB\n"
     ]
    }
   ],
   "source": [
    "# Display a summary of the table information (number of datapoints, etc.)\n",
    "dataset.info()  # Technical summary of my dataset"
   ]
  },
  {
   "cell_type": "code",
   "execution_count": 5,
   "id": "e6d298c2",
   "metadata": {},
   "outputs": [
    {
     "data": {
      "text/html": [
       "<div>\n",
       "<style scoped>\n",
       "    .dataframe tbody tr th:only-of-type {\n",
       "        vertical-align: middle;\n",
       "    }\n",
       "\n",
       "    .dataframe tbody tr th {\n",
       "        vertical-align: top;\n",
       "    }\n",
       "\n",
       "    .dataframe thead th {\n",
       "        text-align: right;\n",
       "    }\n",
       "</style>\n",
       "<table border=\"1\" class=\"dataframe\">\n",
       "  <thead>\n",
       "    <tr style=\"text-align: right;\">\n",
       "      <th></th>\n",
       "      <th>Temperature °C</th>\n",
       "      <th>Mols KCL</th>\n",
       "      <th>Size nm^3</th>\n",
       "    </tr>\n",
       "  </thead>\n",
       "  <tbody>\n",
       "    <tr>\n",
       "      <th>count</th>\n",
       "      <td>1000.000000</td>\n",
       "      <td>1000.000000</td>\n",
       "      <td>1.000000e+03</td>\n",
       "    </tr>\n",
       "    <tr>\n",
       "      <th>mean</th>\n",
       "      <td>500.500000</td>\n",
       "      <td>471.530000</td>\n",
       "      <td>5.086111e+05</td>\n",
       "    </tr>\n",
       "    <tr>\n",
       "      <th>std</th>\n",
       "      <td>288.819436</td>\n",
       "      <td>288.482872</td>\n",
       "      <td>4.474838e+05</td>\n",
       "    </tr>\n",
       "    <tr>\n",
       "      <th>min</th>\n",
       "      <td>1.000000</td>\n",
       "      <td>1.000000</td>\n",
       "      <td>1.611429e+01</td>\n",
       "    </tr>\n",
       "    <tr>\n",
       "      <th>25%</th>\n",
       "      <td>250.750000</td>\n",
       "      <td>226.750000</td>\n",
       "      <td>1.298267e+05</td>\n",
       "    </tr>\n",
       "    <tr>\n",
       "      <th>50%</th>\n",
       "      <td>500.500000</td>\n",
       "      <td>459.500000</td>\n",
       "      <td>3.827182e+05</td>\n",
       "    </tr>\n",
       "    <tr>\n",
       "      <th>75%</th>\n",
       "      <td>750.250000</td>\n",
       "      <td>710.250000</td>\n",
       "      <td>7.603211e+05</td>\n",
       "    </tr>\n",
       "    <tr>\n",
       "      <th>max</th>\n",
       "      <td>1000.000000</td>\n",
       "      <td>1000.000000</td>\n",
       "      <td>1.972127e+06</td>\n",
       "    </tr>\n",
       "  </tbody>\n",
       "</table>\n",
       "</div>"
      ],
      "text/plain": [
       "       Temperature °C     Mols KCL     Size nm^3\n",
       "count     1000.000000  1000.000000  1.000000e+03\n",
       "mean       500.500000   471.530000  5.086111e+05\n",
       "std        288.819436   288.482872  4.474838e+05\n",
       "min          1.000000     1.000000  1.611429e+01\n",
       "25%        250.750000   226.750000  1.298267e+05\n",
       "50%        500.500000   459.500000  3.827182e+05\n",
       "75%        750.250000   710.250000  7.603211e+05\n",
       "max       1000.000000  1000.000000  1.972127e+06"
      ]
     },
     "execution_count": 5,
     "metadata": {},
     "output_type": "execute_result"
    }
   ],
   "source": [
    "dataset.describe() # Display the Descriptive statistics "
   ]
  },
  {
   "cell_type": "markdown",
   "id": "094bc484",
   "metadata": {},
   "source": [
    "***\n",
    "## Part 2. Splitting the dataset"
   ]
  },
  {
   "cell_type": "markdown",
   "id": "2baa47a8",
   "metadata": {},
   "source": [
    "#### Take the pandas dataset and split it into our features (X) and label (y)"
   ]
  },
  {
   "cell_type": "code",
   "execution_count": 6,
   "id": "c13eb47e",
   "metadata": {},
   "outputs": [
    {
     "name": "stdout",
     "output_type": "stream",
     "text": [
      "['Temperature °C', 'Mols KCL', 'Size nm^3']\n"
     ]
    }
   ],
   "source": [
    "# Get the columns name\n",
    "featuresAndLabel = dataset.columns.tolist()\n",
    "print( featuresAndLabel) \n",
    "\n",
    "# Get the feature names and label name\n",
    "featureName1 = featuresAndLabel[0] \n",
    "featureName2 = featuresAndLabel[1]\n",
    "labelName = featuresAndLabel[2]\n",
    "\n",
    "# features (X) \n",
    "X = dataset[ [featureName1, featureName2] ] # in our case is the temperature (C) and KCL (Mols)\n",
    "\n",
    "# Label (Y)\n",
    "Y = dataset[[labelName]] # in our case is the size (nm^3)"
   ]
  },
  {
   "cell_type": "code",
   "execution_count": 7,
   "id": "9e64462d",
   "metadata": {},
   "outputs": [
    {
     "data": {
      "text/html": [
       "<div>\n",
       "<style scoped>\n",
       "    .dataframe tbody tr th:only-of-type {\n",
       "        vertical-align: middle;\n",
       "    }\n",
       "\n",
       "    .dataframe tbody tr th {\n",
       "        vertical-align: top;\n",
       "    }\n",
       "\n",
       "    .dataframe thead th {\n",
       "        text-align: right;\n",
       "    }\n",
       "</style>\n",
       "<table border=\"1\" class=\"dataframe\">\n",
       "  <thead>\n",
       "    <tr style=\"text-align: right;\">\n",
       "      <th></th>\n",
       "      <th>Temperature °C</th>\n",
       "      <th>Mols KCL</th>\n",
       "    </tr>\n",
       "  </thead>\n",
       "  <tbody>\n",
       "    <tr>\n",
       "      <th>0</th>\n",
       "      <td>469</td>\n",
       "      <td>647</td>\n",
       "    </tr>\n",
       "    <tr>\n",
       "      <th>1</th>\n",
       "      <td>403</td>\n",
       "      <td>694</td>\n",
       "    </tr>\n",
       "    <tr>\n",
       "      <th>2</th>\n",
       "      <td>302</td>\n",
       "      <td>975</td>\n",
       "    </tr>\n",
       "  </tbody>\n",
       "</table>\n",
       "</div>"
      ],
      "text/plain": [
       "   Temperature °C  Mols KCL\n",
       "0             469       647\n",
       "1             403       694\n",
       "2             302       975"
      ]
     },
     "execution_count": 7,
     "metadata": {},
     "output_type": "execute_result"
    }
   ],
   "source": [
    "X.head(3)"
   ]
  },
  {
   "cell_type": "code",
   "execution_count": 8,
   "id": "908b9ebe",
   "metadata": {},
   "outputs": [
    {
     "data": {
      "text/html": [
       "<div>\n",
       "<style scoped>\n",
       "    .dataframe tbody tr th:only-of-type {\n",
       "        vertical-align: middle;\n",
       "    }\n",
       "\n",
       "    .dataframe tbody tr th {\n",
       "        vertical-align: top;\n",
       "    }\n",
       "\n",
       "    .dataframe thead th {\n",
       "        text-align: right;\n",
       "    }\n",
       "</style>\n",
       "<table border=\"1\" class=\"dataframe\">\n",
       "  <thead>\n",
       "    <tr style=\"text-align: right;\">\n",
       "      <th></th>\n",
       "      <th>Size nm^3</th>\n",
       "    </tr>\n",
       "  </thead>\n",
       "  <tbody>\n",
       "    <tr>\n",
       "      <th>0</th>\n",
       "      <td>624474.2571</td>\n",
       "    </tr>\n",
       "    <tr>\n",
       "      <th>1</th>\n",
       "      <td>577961.0286</td>\n",
       "    </tr>\n",
       "    <tr>\n",
       "      <th>2</th>\n",
       "      <td>619684.7143</td>\n",
       "    </tr>\n",
       "  </tbody>\n",
       "</table>\n",
       "</div>"
      ],
      "text/plain": [
       "     Size nm^3\n",
       "0  624474.2571\n",
       "1  577961.0286\n",
       "2  619684.7143"
      ]
     },
     "execution_count": 8,
     "metadata": {},
     "output_type": "execute_result"
    }
   ],
   "source": [
    "Y.head(3)"
   ]
  },
  {
   "cell_type": "code",
   "execution_count": 9,
   "id": "5aa4c52b",
   "metadata": {},
   "outputs": [
    {
     "data": {
      "text/plain": [
       "((1000, 2), (1000, 1))"
      ]
     },
     "execution_count": 9,
     "metadata": {},
     "output_type": "execute_result"
    }
   ],
   "source": [
    "# Check the shapes \n",
    "X.shape, Y.shape"
   ]
  },
  {
   "cell_type": "markdown",
   "id": "0f6d920f",
   "metadata": {},
   "source": [
    "#### Use sklearn to split the features and labels into a training/test set. (90% train, 10% test)"
   ]
  },
  {
   "cell_type": "code",
   "execution_count": 10,
   "id": "6d7a0212",
   "metadata": {},
   "outputs": [],
   "source": [
    "# split the set into training and test set\n",
    "X_train, X_test, Y_train, Y_test = model_selection.train_test_split( X, Y, train_size = 0.9, test_size = 0.1,\n",
    "                                                                     shuffle = True, random_state = 1729)"
   ]
  },
  {
   "cell_type": "code",
   "execution_count": 11,
   "id": "9cf45323",
   "metadata": {},
   "outputs": [
    {
     "name": "stdout",
     "output_type": "stream",
     "text": [
      "(900, 2) (100, 2)\n",
      "(900, 1) (100, 1)\n"
     ]
    }
   ],
   "source": [
    "# Check the shapes\n",
    "print ( X_train.shape, X_test.shape )\n",
    "print( Y_train.shape, Y_test.shape )"
   ]
  },
  {
   "cell_type": "markdown",
   "id": "e7f158f4",
   "metadata": {},
   "source": [
    "***\n",
    "## Part 3. Perform a Linear Regression"
   ]
  },
  {
   "cell_type": "code",
   "execution_count": 12,
   "id": "c597e665",
   "metadata": {},
   "outputs": [
    {
     "data": {
      "text/plain": [
       "LinearRegression()"
      ]
     },
     "execution_count": 12,
     "metadata": {},
     "output_type": "execute_result"
    }
   ],
   "source": [
    "# Use sklearn to train a model on the training set\n",
    "linearRegression = linear_model.LinearRegression()\n",
    "linearRegression.fit( X_train, Y_train)"
   ]
  },
  {
   "cell_type": "code",
   "execution_count": 13,
   "id": "847337d9",
   "metadata": {},
   "outputs": [
    {
     "name": "stdout",
     "output_type": "stream",
     "text": [
      "Sample Data point:\n",
      " Temperature °C  Mols KCL\n",
      "            469       647\n",
      "Prediction:\n",
      "665459.334950311\n"
     ]
    }
   ],
   "source": [
    "# Create a sample datapoint and predict the output of that sample with the trained model\n",
    "\n",
    "sampleDataPoint = X[:1] # Create a sample datapoint\n",
    "myPrediction = linearRegression.predict(sampleDataPoint)[0][0]  # Make the prediction using the trained model \n",
    "\n",
    "# Display to console\n",
    "print(\"Sample Data point:\")\n",
    "print( sampleDataPoint.to_string(index = False) )\n",
    "print(\"Prediction:\")\n",
    "print(myPrediction)"
   ]
  },
  {
   "cell_type": "code",
   "execution_count": 14,
   "id": "318ba81e",
   "metadata": {},
   "outputs": [
    {
     "name": "stdout",
     "output_type": "stream",
     "text": [
      "The training score of model is:  0.8608884948885767\n",
      "The test score of model is:  0.8582642046211177\n"
     ]
    }
   ],
   "source": [
    "# Report on the score for that model, in your own words (markdown, not code) explain what the score means\n",
    "\n",
    "train_score = linearRegression.score( X_train, Y_train) # Calculate the score from the training data set\n",
    "test_score = linearRegression.score(X_test, Y_test)     # Calculate the score from the test data set\n",
    "\n",
    "# Display to console\n",
    "print(\"The training score of model is: \", train_score)\n",
    "print( \"The test score of model is: \", test_score )"
   ]
  },
  {
   "cell_type": "markdown",
   "id": "afe0cbcd",
   "metadata": {},
   "source": [
    "#### What does the score() method returns? \n",
    "* From the [scikit learn documentation](https://scikit-learn.org/stable/modules/generated/sklearn.linear_model.LinearRegression.html#sklearn.linear_model.LinearRegression), we know that the score() method return the coefficient of determination of the prediction. It is also called $R^2$ score and it is used to evaluate the performance of a linear regression model. \n",
    "* $R^2$ is a measure of the goodness of fit of a model.\n",
    "* In regression, the R2 coefficient of determination is a statistical measure of how well the regression predictions approximate the real data points.\n",
    "* The best possible score is 1.0 and it can be negative (because the model can be arbitrarily worse). An $R^2$ of 1 indicates that the regression predictions perfectly fit the data. \n",
    "* Hence, the closer the score value is to one, the better.\n",
    "\n",
    "#### What does the score we got tell us?\n",
    "* We got training score $R^2 = 0.86089$ and a test score $R^2 = 0.85826$ , which tells us that there is a strong linear relationship between the features and the label variable."
   ]
  },
  {
   "cell_type": "markdown",
   "id": "f41fde84",
   "metadata": {},
   "source": [
    "***\n",
    "**Note: When writing your output equations for your sample outputs you can ignore outside of 5 significant figures. (e.g. 0.000003 is just 0)**"
   ]
  },
  {
   "cell_type": "code",
   "execution_count": 15,
   "id": "b802098e",
   "metadata": {},
   "outputs": [
    {
     "name": "stdout",
     "output_type": "stream",
     "text": [
      "Intercept: -413047.70917\n",
      "\n",
      "Coefficients: \n",
      "x_1 = 867.68221\n",
      "x_2 = 1037.96613\n"
     ]
    }
   ],
   "source": [
    "# Extract the coefficients and intercept from the model and write an equation for your h(x) using LaTeX\n",
    "\n",
    "# Extract the coefficients and intercept from the model \n",
    "interceptOfLinearRegression = linearRegression.intercept_\n",
    "coefficientsOfLinearRegression = linearRegression.coef_\n",
    "\n",
    "# Display to console \n",
    "theta_0 = interceptOfLinearRegression[0] \n",
    "print( \"Intercept: \", end = '' ) \n",
    "print(  \"{:0.5f}\".format(theta_0) )\n",
    "\n",
    "print( \"\\nCoefficients: \" )\n",
    "for i in range( len(coefficientsOfLinearRegression[0])  ):\n",
    "    theta_i = coefficientsOfLinearRegression[0][i]\n",
    "    print( f\"x_{i+1} = \", end = '')\n",
    "    print( \"{:0.5f}\".format(theta_i) )    "
   ]
  },
  {
   "cell_type": "markdown",
   "id": "edfdd9b7",
   "metadata": {},
   "source": [
    "## Write an equation for your h(x) using LaTeX\n",
    "\n",
    "### Linear Regresion Equation\n",
    "\n",
    "##  <center> $ h(x) = \\theta_{0} + \\theta_{1}\\cdot x_{1} + \\theta_{2}\\cdot x_{2}$  where  $x = \\begin{bmatrix} x_1\\\\x_2\\end{bmatrix}$</center>\n",
    "\n",
    "\n",
    "\n",
    "##  <center> $ h(x) = -413047.70917 + 867.68221 x_{1} + 1037.96613x_{2}$ </center>\n"
   ]
  },
  {
   "cell_type": "markdown",
   "id": "5ca95b62",
   "metadata": {},
   "source": [
    "***\n",
    "## Part 4. Use Cross Validation"
   ]
  },
  {
   "cell_type": "code",
   "execution_count": 16,
   "id": "68cf3e34",
   "metadata": {},
   "outputs": [
    {
     "data": {
      "text/plain": [
       "array([0.85853979, 0.87000344, 0.85211331, 0.86439828, 0.85320168,\n",
       "       0.88151951, 0.84474721, 0.85593249, 0.86408968, 0.85085729,\n",
       "       0.85748265, 0.85824071, 0.85290043, 0.84341584, 0.87765543,\n",
       "       0.84203408, 0.87916173, 0.85550679, 0.85528972, 0.86878518])"
      ]
     },
     "execution_count": 16,
     "metadata": {},
     "output_type": "execute_result"
    }
   ],
   "source": [
    "# Use the cross_val_score function to repeat your experiment across many shuffles of the data\n",
    "\n",
    "# Repeats K-Fold 5 times with different randomization in each repetition (200).\n",
    "kf = model_selection.RepeatedKFold( n_splits = 5, random_state = 1729, n_repeats = 200 ,)\n",
    "\n",
    "lm = linear_model.LinearRegression() # my linear regression model\n",
    "\n",
    "# Use the cross_val_score function to repeat the experiment accross many (1000) shuffles of the data\n",
    "crossValidationScores = model_selection.cross_val_score(lm, X, Y, cv = kf)\n",
    "crossValidationScores[:20]"
   ]
  },
  {
   "cell_type": "code",
   "execution_count": 17,
   "id": "b93262c1",
   "metadata": {},
   "outputs": [
    {
     "data": {
      "image/png": "[encoded data removed]",
      "text/plain": [
       "<Figure size 1440x720 with 1 Axes>"
      ]
     },
     "metadata": {
      "needs_background": "light"
     },
     "output_type": "display_data"
    }
   ],
   "source": [
    "# Show a histogram to see where the scores (Coefficient of determination) are accumulated\n",
    "plt.figure( figsize = (20,10))\n",
    "plt.hist(crossValidationScores, bins = 'auto', rwidth = 0.85)\n",
    "plt.title( \"Coefficient of determination histogram\")\n",
    "plt.grid(True)\n",
    "plt.show()"
   ]
  },
  {
   "cell_type": "code",
   "execution_count": 18,
   "id": "9a4fc4ff",
   "metadata": {},
   "outputs": [
    {
     "name": "stdout",
     "output_type": "stream",
     "text": [
      "0.85805 accuracy with a standard deviation of 0.01319\n"
     ]
    }
   ],
   "source": [
    "# Report on their finding and their significance\n",
    "\n",
    "# Display the mean and std of the scores to the console\n",
    "print(\"%0.5f accuracy with a standard deviation of %0.5f\" % ( crossValidationScores.mean(), crossValidationScores.std()))"
   ]
  },
  {
   "cell_type": "markdown",
   "id": "9720bcd7",
   "metadata": {},
   "source": [
    "### Report on their finding and their significance\n",
    "#### What is cross-validation? \n",
    "* [Cross-validation](https://en.wikipedia.org/wiki/Cross-validation_(statistics)) is a resampling method that uses different portions of the data to test and train a model on different iterations. \n",
    "* The goal of cross-validation is to test the model's ability to predict new data that was not used in estimating it, in order to flag problems like overfitting or selection bias and to give an insight on how the model will generalize to an independent dataset (i.e., an unknown dataset, for instance from a real problem).\n",
    "\n",
    "#### Report on their finding and their significance:\n",
    "* We used the [cross_val_score](https://scikit-learn.org/stable/modules/cross_validation.html#cross-validation) function to repeat our experiment across many randomized shuffles (1000) of our data. \n",
    "* We can see from the histogram plot that most of the values (two-thirds of 1000) are in the range of 0.85 to 0.87. A range very close to what we got before (0.86088).\n",
    "* The mean of the scores was 0.85798 (very close to what we got before 0.86088).  \n",
    "* From the findings, we can conclude that the model's ability to predict new data is pretty good since as stated previously, the closer $R^2$ is to 1, the better."
   ]
  },
  {
   "cell_type": "markdown",
   "id": "c34bd6e9",
   "metadata": {},
   "source": [
    "***\n",
    "## Part 5. Using Polynomial Regression"
   ]
  },
  {
   "cell_type": "code",
   "execution_count": 19,
   "id": "b5491ba0",
   "metadata": {},
   "outputs": [
    {
     "data": {
      "text/plain": [
       "LinearRegression()"
      ]
     },
     "execution_count": 19,
     "metadata": {},
     "output_type": "execute_result"
    }
   ],
   "source": [
    "# Using the PolynomialFeatures library perform another regression on an augmented dataset of degree 2\n",
    "\n",
    "# Polynomial regression of degree 2\n",
    "polynomialModel = preprocessing.PolynomialFeatures( degree = 2) \n",
    "\n",
    "# Perform the data augmentation \n",
    "X_augmented_degree_2 = polynomialModel.fit_transform(X)\n",
    "\n",
    "# Split the data (same as before: train 90%, test 10%)\n",
    "X_augmented_train, X_augmented_test, y_augmented_train, y_augmented_test = model_selection.train_test_split(\n",
    "                                            X_augmented_degree_2, Y, \n",
    "                                            train_size = 0.9, test_size = 0.1, \n",
    "                                            shuffle = True, random_state = 1729)\n",
    "\n",
    "# Perform the Regression\n",
    "polynomialRegression = linear_model.LinearRegression()\n",
    "polynomialRegression.fit( X_augmented_train, y_augmented_train)"
   ]
  },
  {
   "cell_type": "code",
   "execution_count": 20,
   "id": "44fd85a6",
   "metadata": {},
   "outputs": [
    {
     "name": "stdout",
     "output_type": "stream",
     "text": [
      "The training score of model is:  1.0\n",
      "The test score of model is:  1.0\n"
     ]
    }
   ],
   "source": [
    "# Report on the metrics and output the resultant equation as you did in Part 3.\n",
    "\n",
    "# Report on the metrics\n",
    "train_score = polynomialRegression.score( X_augmented_train, Y_train) # Calculate the score from the training data set\n",
    "test_score = polynomialRegression.score( X_augmented_test, Y_test) # Calculate the score from the test data set\n",
    "\n",
    "# Display to console \n",
    "print(\"The training score of model is: \", train_score)\n",
    "print( \"The test score of model is: \", test_score )"
   ]
  },
  {
   "cell_type": "markdown",
   "id": "430ccc0c",
   "metadata": {},
   "source": [
    "### Report on the metrics\n",
    "#### What does the score from the Polynomial Regression tell us?\n",
    "* We got training score $R^2 = 1$ and a test score $R^2 = 1$, which tell us we have a perfect linear relationship between the features and the label variables."
   ]
  },
  {
   "cell_type": "markdown",
   "id": "dbcd6df0",
   "metadata": {},
   "source": [
    "**Note: When writing your output equations for your sample outputs you can ignore outside of 5 significant figures. (e.g. 0.000003 is just 0)**"
   ]
  },
  {
   "cell_type": "code",
   "execution_count": 21,
   "id": "8c004870",
   "metadata": {},
   "outputs": [
    {
     "name": "stdout",
     "output_type": "stream",
     "text": [
      "Intercept: 0.00001\n",
      "\n",
      "Coefficients: \n",
      "1 = 0.00000\n",
      "x_1 = 12.00000\n",
      "x_2 = -0.00000\n",
      "x_1^2 = 0.00000\n",
      "x_1x_2 = 2.00000\n",
      "x_2^2 = 0.02857\n"
     ]
    }
   ],
   "source": [
    "# Output the resultant equation as you did in Part 3.\n",
    "\n",
    "# Extract the coefficients and intercept from the model\n",
    "interceptOfPolynomialRegression = polynomialRegression.intercept_\n",
    "coefficientsOfPolynomialRegression = polynomialRegression.coef_\n",
    "\n",
    "# Display to console\n",
    "\n",
    "intercept = interceptOfPolynomialRegression[0]\n",
    "print( \"Intercept: \", end = '' ) \n",
    "print(  \"{:0.5f}\".format(intercept) )\n",
    "\n",
    "print( \"\\nCoefficients: \" ) # [1, x_1, x_2, x_1^2 , x_1x_2, x_2^2 ]\n",
    "setMatch = ['1', 'x_1', 'x_2', 'x_1^2', 'x_1x_2', 'x_2^2']\n",
    "for i in range( len(coefficientsOfPolynomialRegression[0]) ):\n",
    "    coeff_i = coefficientsOfPolynomialRegression[0][i]\n",
    "    print( f\"{setMatch[i]} = \", end = '' )\n",
    "    print( \"{:0.5f}\".format(coeff_i) )"
   ]
  },
  {
   "cell_type": "markdown",
   "id": "86596af5",
   "metadata": {},
   "source": [
    "## Polynomial Regresion Equation\n",
    "**Recall: The features of x has been transformed from $[x_1, x_2]$ to $[1, x_1, x_2, x_1^2 , x_1x_2, x_2^2 ]$** \n",
    "\n",
    "## <center> $h(x) = 0.00001 + 0 \\cdot1 + 12\\cdot x_1 - 0\\cdot x_2 + 0 \\cdot x_1^2 + 2\\cdot x_1 \\cdot x_2 + 0.02857 \\cdot x_2^2$ </center>\n",
    "\n",
    "## <center> $h(x) = 0.00001 + 12\\cdot x_1 + 2\\cdot x_1 \\cdot x_2 + 0.02857 \\cdot x_2^2$ </center>"
   ]
  },
  {
   "cell_type": "markdown",
   "id": "37309408",
   "metadata": {},
   "source": [
    "***\n",
    "## References: \n",
    "1. [Pandas: \"How do I read and write tabular data?\"](https://pandas.pydata.org/docs/getting_started/intro_tutorials/02_read_write.html)\n",
    "2. [Pandas: \"How do I select a subset of a DataFrame?\"](https://pandas.pydata.org/docs/getting_started/intro_tutorials/03_subset_data.html)\n",
    "3. [Scikit learn: train_test_split](https://scikit-learn.org/stable/modules/generated/sklearn.model_selection.train_test_split.html)\n",
    "4. [Scikit learn: Cross-validation](https://scikit-learn.org/stable/modules/cross_validation.html#cross-validation)\n",
    "5. [Scikit learn: Linear Regression](https://scikit-learn.org/stable/modules/generated/sklearn.linear_model.LinearRegression.html#sklearn.linear_model.LinearRegression)\n",
    "6. [Scikit learn: Linear Models](https://scikit-learn.org/stable/modules/linear_model.html)\n",
    "7. [Scikit learn: Polynomial Regression](https://scikit-learn.org/stable/modules/linear_model.html#polynomial-regression-extending-linear-models-with-basis-functions)\n"
   ]
  },
  {
   "cell_type": "code",
   "execution_count": null,
   "id": "c5409ace",
   "metadata": {},
   "outputs": [],
   "source": []
  }
 ],
 "metadata": {
  "kernelspec": {
   "display_name": "Python 3 (ipykernel)",
   "language": "python",
   "name": "python3"
  },
  "language_info": {
   "codemirror_mode": {
    "name": "ipython",
    "version": 3
   },
   "file_extension": ".py",
   "mimetype": "text/x-python",
   "name": "python",
   "nbconvert_exporter": "python",
   "pygments_lexer": "ipython3",
   "version": "3.10.2"
  }
 },
 "nbformat": 4,
 "nbformat_minor": 5
}
